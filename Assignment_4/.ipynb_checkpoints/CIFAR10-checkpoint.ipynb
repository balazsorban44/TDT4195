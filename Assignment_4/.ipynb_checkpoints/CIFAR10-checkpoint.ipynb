{
 "cells": [
  {
   "cell_type": "markdown",
   "metadata": {
    "colab_type": "text",
    "id": "7FrSaD0c9rJJ"
   },
   "source": [
    "# Initial analysis of CIFAR10 dataset"
   ]
  },
  {
   "cell_type": "code",
   "execution_count": 3,
   "metadata": {
    "colab": {},
    "colab_type": "code",
    "id": "TzYWOkIq8xdv"
   },
   "outputs": [],
   "source": [
    "import keras\n",
    "from keras.datasets import cifar10\n",
    "from keras.models import Sequential\n",
    "from keras.layers import Dense, Flatten, Dropout\n",
    "from keras.layers import Conv2D, MaxPooling2D, BatchNormalization\n",
    "import numpy as np\n",
    "from collections import Counter\n",
    "from collections import defaultdict\n",
    "import matplotlib.pyplot as plt"
   ]
  },
  {
   "cell_type": "code",
   "execution_count": null,
   "metadata": {
    "colab": {},
    "colab_type": "code",
    "id": "tOyYDAF39EAO"
   },
   "outputs": [
    {
     "name": "stdout",
     "output_type": "stream",
     "text": [
      "Downloading data from https://www.cs.toronto.edu/~kriz/cifar-10-python.tar.gz\n",
      "   860160/170498071 [..............................] - ETA: 6:20"
     ]
    }
   ],
   "source": [
    "(X_train, Y_train), (X_test, Y_test) = cifar10.load_data()"
   ]
  },
  {
   "cell_type": "markdown",
   "metadata": {
    "colab_type": "text",
    "id": "De2tPqlcGjJj"
   },
   "source": []
  },
  {
   "cell_type": "code",
   "execution_count": null,
   "metadata": {
    "colab": {
     "base_uri": "https://localhost:8080/",
     "height": 121
    },
    "colab_type": "code",
    "id": "Qj7iDINWGk8i",
    "outputId": "8fe82dde-a98d-4f9f-9e7b-a83bdc69e726"
   },
   "outputs": [],
   "source": [
    "num_classes = np.unique(Y_train).shape[0]\n",
    "print(\"Number of training examples:\", X_train.shape[0])\n",
    "print(\"Number of testing examples:\", X_test.shape[0])\n",
    "print(\"Number of classes:\", num_classes)\n",
    "print(\"Which are: \", np.unique(Y_train))\n",
    "print(\"Image shape:\", X_train[0].shape)\n",
    "print(\"Image data type:\", X_train.dtype)"
   ]
  },
  {
   "cell_type": "markdown",
   "metadata": {
    "colab_type": "text",
    "id": "562V_yI99M7e"
   },
   "source": [
    "## The first 9 images of CIFAR-10"
   ]
  },
  {
   "cell_type": "code",
   "execution_count": null,
   "metadata": {
    "colab": {
     "base_uri": "https://localhost:8080/",
     "height": 350
    },
    "colab_type": "code",
    "id": "Hy479yPj9LL6",
    "outputId": "7896702f-8daf-44e8-a1e7-32b970b6e286"
   },
   "outputs": [],
   "source": [
    "for row in range(3):\n",
    "    for col in range(3):\n",
    "        idx = row*3 + col + 1\n",
    "        plt.subplot(3,3, idx)\n",
    "        plt.imshow(X_train[idx-1], cmap=\"gray\")\n",
    "       "
   ]
  },
  {
   "cell_type": "markdown",
   "metadata": {
    "colab_type": "text",
    "id": "1CmeVJgzOokO"
   },
   "source": [
    "## What does an average image of each class look like?\n",
    "\n",
    "Let's take a look at the averages of each image class."
   ]
  },
  {
   "cell_type": "code",
   "execution_count": null,
   "metadata": {
    "colab": {
     "base_uri": "https://localhost:8080/",
     "height": 368
    },
    "colab_type": "code",
    "id": "R-m9OeiJOkib",
    "outputId": "4f11babe-b13b-4ad9-fb2e-b65f28963c3d"
   },
   "outputs": [],
   "source": [
    "groupped_labels = [np.where(Y_train == [className]) for className in range(10)]\n",
    "groupped_images = [X_train[groupped_labels[className][0]] for className in range(len(groupped_labels))]\n",
    "groupped_images_avg = np.mean(groupped_images, axis=1)\n",
    "\n",
    "for row in range(3):\n",
    "    for col in range(3):\n",
    "        idx = row*3 + col + 1\n",
    "        plt.subplot(3,4, idx)\n",
    "        plt.imshow(groupped_images_avg[idx-1], cmap=\"gray\")\n",
    "        \n",
    "plt.subplot(3,4, 10)\n",
    "plt.imshow(groupped_images_avg[9], cmap=\"gray\")\n",
    "print()"
   ]
  },
  {
   "cell_type": "markdown",
   "metadata": {
    "colab_type": "text",
    "id": "oousl0lb_Ctj"
   },
   "source": [
    "# Data pre-processing"
   ]
  },
  {
   "cell_type": "markdown",
   "metadata": {
    "colab_type": "text",
    "id": "e3_yqq_aGVIy"
   },
   "source": [
    "## One-hot encoding\n",
    "\n",
    "A one hot encoding allows the representation of categorical data to be more expressive. Indeed, a categorical data representation could raise some issues machine learning algorithms. Although some algorithms can work with categorical data directly, it is better to convert them into a numerical form. This will enable efficient implementation of machine learning algorithms.\n",
    "\n",
    "$to__categorical()$ returns a binary matrix of its input Y_train and Y_test which have integers between 0 and 9."
   ]
  },
  {
   "cell_type": "code",
   "execution_count": null,
   "metadata": {
    "colab": {
     "base_uri": "https://localhost:8080/",
     "height": 53
    },
    "colab_type": "code",
    "id": "S3yrFSDZGXte",
    "outputId": "416d43f5-1f79-41af-ad1d-717b798b138f"
   },
   "outputs": [],
   "source": [
    "#1-dimensional class arrays are converted to 10-dimensional class matrices because the ouput is a number between 0 and 9\n",
    "print(\"before\", Y_train.shape)\n",
    "Y_train = keras.utils.to_categorical(Y_train, num_classes)\n",
    "Y_test = keras.utils.to_categorical(Y_test, num_classes)\n",
    "print(\"after\", Y_train.shape)"
   ]
  },
  {
   "cell_type": "markdown",
   "metadata": {
    "colab_type": "text",
    "id": "gpEeaEmuDrpU"
   },
   "source": [
    "## Split training set into training and validation\n",
    "\n",
    "The test set will be used for testing purpose only, for our final evaluation.The validation set will be used to validate our model and tune different hyperparameters in our model.\n",
    "\n",
    "We will discuss hyperparameter tuning during the training and the evaluation of our model later on."
   ]
  },
  {
   "cell_type": "code",
   "execution_count": null,
   "metadata": {
    "colab": {
     "base_uri": "https://localhost:8080/",
     "height": 88
    },
    "colab_type": "code",
    "id": "0FszdbBPDyNZ",
    "outputId": "b83a5da1-c440-46c4-abf8-716f7b1d2b79"
   },
   "outputs": [],
   "source": [
    "train_val_split = 0.9 # Percentage of data to use in training set\n",
    "indexes = np.arange(X_train.shape[0])\n",
    "np.random.shuffle(indexes)\n",
    "# Select random indexes for train/val set\n",
    "idx_train = indexes[:int(train_val_split*X_train.shape[0])]\n",
    "idx_val = indexes[int(train_val_split*X_train.shape[0]):]\n",
    "\n",
    "X_val = X_train[idx_val]\n",
    "Y_val = Y_train[idx_val]\n",
    "\n",
    "X_train = X_train[idx_train]\n",
    "Y_train = Y_train[idx_train]\n",
    "\n",
    "print(\"Training set shape:\", X_train.shape)\n",
    "print(\"Validation set shape:\", X_val.shape)\n",
    "print(\"Testing set shape:\", X_test.shape)\n",
    "print(Y_val.shape)"
   ]
  },
  {
   "cell_type": "code",
   "execution_count": null,
   "metadata": {
    "colab": {},
    "colab_type": "code",
    "id": "vCE-iNH6HNHw"
   },
   "outputs": [],
   "source": [
    "#mean\n",
    "pixel_mean = X_train.mean(axis=0)\n",
    "#standard deviation\n",
    "pixel_std = X_train.std(axis=0) + 1e-10 # Prevent division-by-zero errors\n",
    "# Normalize the train and test set\n",
    "#we want the input to have values between 0 and 1\n",
    "X_train = (X_train - pixel_mean) / pixel_std\n",
    "X_test = (X_test - pixel_mean) / pixel_std"
   ]
  },
  {
   "cell_type": "markdown",
   "metadata": {
    "colab_type": "text",
    "id": "FkOUgMZIby1D"
   },
   "source": []
  },
  {
   "cell_type": "markdown",
   "metadata": {
    "colab_type": "text",
    "id": "pBPGM-IWb1Pi"
   },
   "source": []
  },
  {
   "cell_type": "markdown",
   "metadata": {
    "colab_type": "text",
    "id": "BifHYcfcb29o"
   },
   "source": [
    "best fully connected neural network model from MNIS"
   ]
  },
  {
   "cell_type": "markdown",
   "metadata": {
    "colab_type": "text",
    "id": "clvTDbLA_HO8"
   },
   "source": [
    "# Implementation of the given network"
   ]
  },
  {
   "cell_type": "markdown",
   "metadata": {
    "colab_type": "text",
    "id": "5I9te-Yv_iqj"
   },
   "source": [
    "## Model construction\n",
    "\n",
    "The given network in the project instructions is composed of 4 layers, of which are 2 Conv2D and 2 dense layers connected in this same order. The first three layers use ReLU and the last layer uses Softmax (to be able to predict a possibility for all the possible outcomes). The numbers of neurons in the layers (again in the same order) are: 32, 32, 64, 10."
   ]
  },
  {
   "cell_type": "code",
   "execution_count": null,
   "metadata": {
    "colab": {
     "base_uri": "https://localhost:8080/",
     "height": 35
    },
    "colab_type": "code",
    "id": "26Q83-GF_fRE",
    "outputId": "99811ae8-56c3-4126-eb53-970d8221c8bc"
   },
   "outputs": [],
   "source": [
    "model = Sequential()\n",
    "input_shape = X_train.shape[1:]\n",
    "print(input_shape)\n",
    "model.add(Conv2D(32, kernel_size=(3,3), activation = \"relu\", input_shape=(32, 32, 3)))\n",
    "model.add(BatchNormalization())\n",
    "model.add(MaxPooling2D(strides=(3,3)))\n",
    "model.add(Conv2D(64, kernel_size=(3,3), activation = \"relu\"))\n",
    "model.add(BatchNormalization())\n",
    "model.add(MaxPooling2D(strides=(3,3)))\n",
    "model.add(Dropout(0.25))\n",
    "\n",
    "model.add(Flatten())\n",
    "model.add(Dense(64, activation = \"relu\"))\n",
    "model.add(Dropout(0.25))\n",
    "model.add(Dense(num_classes, activation=\"softmax\")) #num_classes = 10\n",
    "#the output layer is a 10-node softmax layer. It returns an array of 10 probabilities that sum to 1\n",
    "#Each node contains a score that indicates the probability that the current image belongs to one of the 10 classes\n"
   ]
  },
  {
   "cell_type": "markdown",
   "metadata": {
    "colab_type": "text",
    "id": "eTjL1N4yA-os"
   },
   "source": [
    "## Compilation"
   ]
  },
  {
   "cell_type": "code",
   "execution_count": null,
   "metadata": {
    "colab": {
     "base_uri": "https://localhost:8080/",
     "height": 35
    },
    "colab_type": "code",
    "id": "GjkfT8jPBCck",
    "outputId": "3962ea12-788c-40b0-a0aa-86c6803d7499"
   },
   "outputs": [],
   "source": [
    "#before trainning the model we have a few more compiling steps\n",
    "#the loss function measures how accurate the model is\n",
    "#optimizer : measures how the model is updated\n",
    "learning_rate = 0.005\n",
    "\n",
    "\n",
    "model.compile(\n",
    "  loss=keras.losses.categorical_crossentropy,\n",
    "  optimizer=keras.optimizers.Nadam(learning_rate),\n",
    "  metrics=['accuracy']\n",
    ")\n",
    "#accuracy : the fraction of images that are correctly classified\n",
    "\"\"\"\n",
    "\n",
    "other options :\n",
    "\n",
    "model.compile(\n",
    "  loss=keras.losses.categorical_crossentropy,\n",
    "  optimizer=keras.optimizers.RMSprop(learning_rate),\n",
    "  metrics=['accuracy']\n",
    ")\n",
    "\n",
    "model.compile(\n",
    "  loss=keras.losses.sparse_categorical_crossentropy,\n",
    "  optimizer=keras.optimizers.Adam(learning_rate),\n",
    "  metrics=['sparse_categorical_accuracy']\n",
    ")\n",
    "             \n",
    "model.compile(\n",
    "  loss=keras.losses.categorical_crossentropy,\n",
    "  optimizer=keras.optimizers.SGD(lr=learning_rate),\n",
    "  metrics=['accuracy']\n",
    ")\n",
    "\"\"\"\n",
    "print()"
   ]
  },
  {
   "cell_type": "code",
   "execution_count": null,
   "metadata": {
    "colab": {
     "base_uri": "https://localhost:8080/",
     "height": 533
    },
    "colab_type": "code",
    "id": "I8bTs1dsCb3y",
    "outputId": "138260cf-9ca4-4c6f-df99-f9a2dfb639c4"
   },
   "outputs": [],
   "source": [
    "model.summary()"
   ]
  },
  {
   "cell_type": "markdown",
   "metadata": {
    "colab_type": "text",
    "id": "RSxX5E67Db_J"
   },
   "source": [
    "## Training"
   ]
  },
  {
   "cell_type": "code",
   "execution_count": null,
   "metadata": {
    "colab": {
     "base_uri": "https://localhost:8080/",
     "height": 106
    },
    "colab_type": "code",
    "id": "CCGpuf7EDewf",
    "outputId": "50ad2f46-9c87-4db7-f20b-49cf1b478d53"
   },
   "outputs": [],
   "source": [
    "number_of_epochs = 10\n",
    "batch_size=64\n",
    "\n",
    "model.fit(X_train, Y_train,\n",
    "          batch_size=batch_size,\n",
    "          epochs=number_of_epochs,\n",
    "          verbose=1,\n",
    "          validation_data=(X_val, Y_val))"
   ]
  },
  {
   "cell_type": "code",
   "execution_count": null,
   "metadata": {
    "colab": {},
    "colab_type": "code",
    "id": "sPd_fsVkeMo4"
   },
   "outputs": [],
   "source": [
    "model = Sequential()\n",
    "input_shape = X_train.shape[1:]\n",
    "print(input_shape)\n",
    "model.add(Conv2D(32, kernel_size=(3,3), activation = \"relu\", input_shape=(32, 32, 3)))\n",
    "model.add(BatchNormalization())\n",
    "model.add(MaxPooling2D(strides=(2,2)))\n",
    "model.add(Conv2D(64, kernel_size=(3,3), activation = \"relu\"))\n",
    "model.add(BatchNormalization())\n",
    "model.add(MaxPooling2D(strides=(2,2)))\n",
    "model.add(Dropout(0.25))\n",
    "\n",
    "model.add(Flatten())\n",
    "model.add(Dense(64, activation = \"relu\"))\n",
    "model.add(Dropout(0.25))\n",
    "model.add(Dense(num_classes, activation=\"softmax\")) #num_classes = 10\n",
    "#the output layer is a 10-node softmax layer. It returns an array of 10 probabilities that sum to 1\n",
    "#Each node contains a score that indicates the probability that the current image belongs to one of the 10 classes"
   ]
  },
  {
   "cell_type": "code",
   "execution_count": null,
   "metadata": {
    "colab": {},
    "colab_type": "code",
    "id": "WV8Eru5UeOaM"
   },
   "outputs": [],
   "source": [
    "number_of_epochs = 10\n",
    "batch_size=32\n",
    "\n",
    "model.fit(X_train, Y_train,\n",
    "          batch_size=batch_size,\n",
    "          epochs=number_of_epochs,\n",
    "          verbose=1,\n",
    "          validation_data=(X_val, Y_val))"
   ]
  },
  {
   "cell_type": "markdown",
   "metadata": {
    "colab_type": "text",
    "id": "xvqX1h0r_Jnb"
   },
   "source": [
    "# Our network"
   ]
  }
 ],
 "metadata": {
  "colab": {
   "collapsed_sections": [
    "gpEeaEmuDrpU",
    "eTjL1N4yA-os",
    "xvqX1h0r_Jnb"
   ],
   "name": "CIFAR10.ipynb",
   "provenance": [],
   "version": "0.3.2"
  },
  "kernelspec": {
   "display_name": "Python (tdt4195)",
   "language": "python",
   "name": "tdt4195"
  },
  "language_info": {
   "codemirror_mode": {
    "name": "ipython",
    "version": 3
   },
   "file_extension": ".py",
   "mimetype": "text/x-python",
   "name": "python",
   "nbconvert_exporter": "python",
   "pygments_lexer": "ipython3",
   "version": "3.6.6"
  }
 },
 "nbformat": 4,
 "nbformat_minor": 1
}
