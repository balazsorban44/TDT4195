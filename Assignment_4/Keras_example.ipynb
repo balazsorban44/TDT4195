{
 "cells": [
  {
   "cell_type": "markdown",
   "metadata": {},
   "source": [
    "# Keras mnist example"
   ]
  },
  {
   "cell_type": "markdown",
   "metadata": {},
   "source": [
    "### Import required libraries"
   ]
  },
  {
   "cell_type": "code",
   "execution_count": 2,
   "metadata": {},
   "outputs": [
    {
     "name": "stderr",
     "output_type": "stream",
     "text": [
      "Using TensorFlow backend.\n"
     ]
    }
   ],
   "source": [
    "import keras\n",
    "from keras.datasets import mnist\n",
    "from keras.models import Sequential\n",
    "from keras.layers import Dense, Flatten\n",
    "from keras.layers import Conv2D, MaxPooling2D\n",
    "import numpy as np\n",
    "from collections import Counter\n",
    "import matplotlib.pyplot as plt\n",
    "import matplotlib.colors as cl"
   ]
  },
  {
   "cell_type": "markdown",
   "metadata": {},
   "source": [
    "## Load the dataset"
   ]
  },
  {
   "cell_type": "code",
   "execution_count": 3,
   "metadata": {},
   "outputs": [],
   "source": [
    "(X_train, Y_train), (X_test, Y_test) = mnist.load_data()"
   ]
  },
  {
   "cell_type": "markdown",
   "metadata": {},
   "source": [
    "## Exploratory Analysis\n",
    "\n",
    "Here we want to get a better understanding of our dataset. We viusalise some of the images, and gather some simple statistics.\n",
    "\n",
    "It's encouraged here to eplore the dataset more!\n",
    "\n",
    "#### Visualize some images"
   ]
  },
  {
   "cell_type": "code",
   "execution_count": 4,
   "metadata": {},
   "outputs": [
    {
     "data": {
      "image/png": "[encoded data removed]",
      "text/plain": [
       "<Figure size 432x288 with 9 Axes>"
      ]
     },
     "metadata": {
      "needs_background": "light"
     },
     "output_type": "display_data"
    }
   ],
   "source": [
    "for row in range(3):\n",
    "    for col in range(3):\n",
    "        idx = row*3 + col + 1\n",
    "        plt.subplot(3,3, idx)\n",
    "        plt.imshow(X_train[idx-1], cmap=\"gray\")\n",
    "        "
   ]
  },
  {
   "cell_type": "markdown",
   "metadata": {},
   "source": [
    "#### Basic Dataset Statistics"
   ]
  },
  {
   "cell_type": "code",
   "execution_count": 5,
   "metadata": {},
   "outputs": [
    {
     "name": "stdout",
     "output_type": "stream",
     "text": [
      "Number of training examples: 60000\n",
      "Number of testing examples: 10000\n",
      "Number of classes: 10\n",
      "Image shape: (28, 28)\n",
      "Image data type: uint8\n"
     ]
    }
   ],
   "source": [
    "num_classes = np.unique(Y_train).shape[0]\n",
    "print(\"Number of training examples:\", X_train.shape[0])\n",
    "print(\"Number of testing examples:\", X_test.shape[0])\n",
    "print(\"Number of classes:\", num_classes)\n",
    "print(\"Image shape:\", X_train[0].shape)\n",
    "print(\"Image data type:\", X_train.dtype)"
   ]
  },
  {
   "cell_type": "markdown",
   "metadata": {},
   "source": [
    "#### Plot class distribution"
   ]
  },
  {
   "cell_type": "code",
   "execution_count": 6,
   "metadata": {},
   "outputs": [
    {
     "data": {
      "text/plain": [
       "<BarContainer object of 10 artists>"
      ]
     },
     "execution_count": 6,
     "metadata": {},
     "output_type": "execute_result"
    },
    {
     "data": {
      "image/png": "[encoded data removed]",
      "text/plain": [
       "<Figure size 864x576 with 1 Axes>"
      ]
     },
     "metadata": {
      "needs_background": "light"
     },
     "output_type": "display_data"
    }
   ],
   "source": [
    "class_distribution = Counter(Y_train)\n",
    "x = range(10)\n",
    "y = [class_distribution[cls] for cls in x]\n",
    "plt.figure(figsize=(12,8))\n",
    "plt.xticks(x)\n",
    "plt.title(\"Number of training examples in each class\")\n",
    "plt.xlabel(\"Class\")\n",
    "plt.ylabel(\"Number of examples\")\n",
    "plt.bar(x, y)"
   ]
  },
  {
   "cell_type": "code",
   "execution_count": 17,
   "metadata": {},
   "outputs": [
    {
     "name": "stderr",
     "output_type": "stream",
     "text": [
      "/home/margot/anaconda3/envs/tdt4195/lib/python3.6/site-packages/ipykernel_launcher.py:8: RuntimeWarning: overflow encountered in ubyte_scalars\n",
      "  \n"
     ]
    },
    {
     "data": {
      "text/plain": [
       "{'whiskers': [<matplotlib.lines.Line2D at 0x7fa37647f978>,\n",
       "  <matplotlib.lines.Line2D at 0x7fa37647fcc0>],\n",
       " 'caps': [<matplotlib.lines.Line2D at 0x7fa37645e048>,\n",
       "  <matplotlib.lines.Line2D at 0x7fa37645e390>],\n",
       " 'boxes': [<matplotlib.lines.Line2D at 0x7fa37647f828>],\n",
       " 'medians': [<matplotlib.lines.Line2D at 0x7fa37645e6d8>],\n",
       " 'fliers': [<matplotlib.lines.Line2D at 0x7fa37645ea20>],\n",
       " 'means': []}"
      ]
     },
     "execution_count": 17,
     "metadata": {},
     "output_type": "execute_result"
    },
    {
     "data": {
      "image/png": "[encoded data removed]",
      "text/plain": [
       "<Figure size 432x288 with 1 Axes>"
      ]
     },
     "metadata": {
      "needs_background": "light"
     },
     "output_type": "display_data"
    }
   ],
   "source": [
    "zero_labels = np.where(Y_train == 0)\n",
    "\n",
    "zeros = X_train[zero_labels]\n",
    "\n",
    "zeros_pixels = np.array(zeros.flatten())\n",
    "\n",
    "for i in range(0,len(zeros_pixels)-1):\n",
    "    dist = dist + [np.linalg.norm(zeros_pixels[i]- zeros_pixels[i+1])]\n",
    "\n",
    "plt.boxplot(dist)"
   ]
  },
  {
   "cell_type": "code",
   "execution_count": 15,
   "metadata": {},
   "outputs": [
    {
     "name": "stdout",
     "output_type": "stream",
     "text": [
      "[35, 39, 24, 21, 29, 37, 22, 45, 13, 27, 36, 18, 45, 36, 14, 32, 31, 34, 17, 22, 43, 45, 19, 21, 28, 52, 17, 58, 53, 20, 32, 41, 22, 27, 46, 20, 40, 47, 27, 34, 17, 36, 16, 22, 21, 30, 29, 28, 21, 42, 23, 58, 35, 21, 30, 41, 53, 25, 43, 21, 37, 23, 38, 58, 33, 21, 34, 19, 31, 53, 28, 26, 13, 33, 33, 43, 33, 21, 25, 29, 33, 47, 51, 34, 23, 33, 27, 35, 43, 32, 37, 33, 19, 37, 34, 48, 23, 37, 27, 16, 23, 29, 14, 24, 14, 24, 34, 39, 36, 26, 31, 58, 14, 26, 51, 26, 32, 51, 31, 54, 50, 58, 30, 31, 11, 33, 35, 29, 25, 40, 28, 34, 22, 23, 30, 42, 25, 34, 36, 30, 17, 28, 23, 32, 23, 24, 36, 36, 22, 44, 33, 34, 18, 20, 27, 37, 34, 41, 20, 38, 27, 46, 27, 30, 46, 40, 26, 31, 39, 47, 27, 43, 31, 19, 15, 28, 25, 26, 29, 46, 20, 44, 34, 30, 17, 36, 29, 50, 35, 41, 37, 21, 40, 34, 36, 28, 35, 30, 36, 34, 22, 23, 33, 41, 29, 23, 46, 36, 23, 49, 21, 23, 20, 49, 35, 42, 34, 25, 33, 33, 46, 45, 48, 32, 33, 43, 27, 27, 23, 47, 23, 21, 21, 40, 34, 39, 38, 27, 30, 30, 23, 37, 48, 30, 52, 41, 30, 23, 24, 44, 31, 25, 37, 49, 28, 42, 22, 28, 19, 30, 20, 36, 26, 34, 26, 45, 37, 24, 27, 19, 10, 25, 34, 29, 27, 27, 12, 50, 32, 37, 22, 40, 21, 55, 36, 23, 58, 24, 23, 23, 18, 33, 27, 58, 46, 31, 39, 26, 43, 43, 27, 28, 36, 54, 17, 28, 37, 25, 44, 17, 13, 35, 41, 26, 23, 22, 23, 44, 28, 29, 42, 34, 26, 37, 32, 48, 35, 36, 44, 31, 33, 33, 28, 41, 33, 23, 24, 33, 22, 47, 29, 42, 20, 34, 23, 22, 29, 44, 43, 31, 29, 24, 44, 28, 20, 24, 24, 27, 16, 42, 39, 39, 27, 24, 20, 42, 14, 38, 28, 26, 22, 34, 22, 24, 38, 48, 26, 37, 39, 22, 36, 45, 23, 31, 26, 56, 40, 28, 16, 28, 36, 44, 36, 37, 19, 36, 21, 20, 14, 58, 40, 27, 24, 28, 37, 35, 20, 27, 14, 29, 37, 29, 14, 22, 33, 41, 24, 19, 12, 28, 23, 38, 19, 26, 41, 34, 46, 63, 28, 55, 24, 35, 28, 34, 22, 46, 17, 23, 36, 36, 56, 23, 22, 20, 19, 40, 28, 21, 39, 36, 19, 47, 40, 40, 11, 20, 24, 35, 53, 33, 26, 31, 56, 19, 54, 40, 12, 35, 19, 40, 18, 31, 19, 43, 29, 18, 23, 39, 35, 37, 42, 27, 25, 35, 13, 36, 36, 26, 38, 32, 38, 20, 26, 33, 38, 46, 33, 26, 23, 35, 22, 24, 17, 29, 46, 31, 33, 21, 21, 38, 15, 27, 39, 25, 21, 46, 35, 37, 24, 51, 35, 40, 34, 19, 40, 32, 55, 32, 56, 31, 28, 25, 37, 20, 30, 23, 21, 28, 15, 46, 21, 29, 46, 23, 41, 35, 31, 29, 47, 35, 29, 38, 25, 20, 50, 37, 25, 40, 16, 38, 20, 33, 27, 37, 31, 44, 24, 25, 35, 32, 54, 37, 19, 20, 20, 28, 21, 48, 27, 23, 26, 35, 39, 25, 19, 23, 17, 20, 21, 31, 22, 48, 22, 20, 33, 25, 47, 39, 40, 27, 20, 23, 32, 43, 9, 25, 41, 36, 30, 23, 29, 22, 37, 32, 31, 32, 41, 29, 15, 30, 55, 25, 46, 42, 26, 33, 44, 26, 24, 38, 17, 27, 33, 44, 16, 40, 18, 18, 16, 44, 31, 28, 44, 43, 21, 42, 23, 19, 14, 39, 26, 31, 29, 25, 27, 31, 49, 36, 36, 36, 20, 25, 34, 27, 34, 49, 32, 39, 40, 48, 51, 27, 39, 40, 18, 39, 17, 38, 17, 37, 26, 47, 16, 36, 40, 35, 20, 34, 28, 48, 29, 27, 32, 36, 28, 35, 23, 37, 22, 39, 23, 46, 40, 34, 40, 36, 29, 31, 26, 44, 17, 24, 51, 52, 29, 40, 45, 42, 21, 51, 24, 44, 38, 35, 37, 38, 28, 32, 18, 40, 32, 36, 41, 46, 47, 39, 21, 45, 12, 45, 29, 32, 25, 56, 21, 53, 22, 20, 33, 35, 24, 43, 40, 34, 13, 38, 75, 43, 43, 44, 28, 38, 22, 45, 38, 26, 45, 36, 27, 48, 18, 37, 54, 28, 43, 23, 42, 42, 13, 23, 18, 54, 21, 23, 29, 36, 17, 46, 29, 35, 42, 43, 37, 35, 40, 31, 22, 38, 24, 37, 35, 32, 36, 32, 33, 33, 37, 29, 20, 21, 41, 35, 26, 37, 51, 38, 33, 41, 30, 33, 28, 28, 17, 37, 19, 49, 42, 29, 29, 43, 39, 46, 24, 24, 26, 23, 31, 38, 16, 31, 36, 42, 30, 31, 37, 40, 36, 37, 33, 50, 27, 36, 31, 29, 30, 38, 22, 40, 22, 54, 43, 38, 39, 24, 15, 41, 34, 39, 18, 37, 22, 20, 56, 47, 50, 51, 23, 32, 21, 22, 31, 39, 32, 40, 22, 46, 42, 43, 25, 39, 41, 21, 19, 51, 39, 57, 45, 28, 28, 24, 16, 34, 35, 39, 32, 22, 32, 53, 28, 52, 31, 35, 26, 43, 33, 22, 47, 44, 32, 21, 26, 29, 15, 42, 41, 46, 36, 45, 25, 34, 40, 39, 26, 21, 35, 25, 22, 26, 27, 22, 31, 13, 47, 32, 55, 23, 48, 18, 35, 47, 45, 19, 33, 36, 37, 25, 34, 33, 38, 31, 43, 16, 24, 35, 28, 34, 25, 32, 20, 37, 31, 21, 54, 33, 38, 44, 33, 29, 13, 39, 26, 45, 23, 38, 33, 25, 46, 31, 35, 45, 38, 35, 36, 14, 33, 38, 26, 40, 28]\n"
     ]
    },
    {
     "data": {
      "text/plain": [
       "(array([ 1.,  1.,  2.,  4.,  8., 10.,  6., 11.,  0., 16., 13., 21., 29.,\n",
       "        33., 35., 45.,  0., 30., 28., 34., 34., 38., 35., 19.,  0., 35.,\n",
       "        29., 40., 33., 37., 41., 38., 29.,  0., 28., 32., 19., 19., 22.,\n",
       "        19., 16.,  0., 22., 14., 11.,  6.,  6., 10.,  4.,  0.,  6.,  8.,\n",
       "         5.,  6.,  1.,  8.,  0.,  0.,  0.,  0.,  0.,  1.,  0.,  0.,  0.,\n",
       "         0.,  0.,  0.,  0.,  0.,  0.,  0.,  0.,  0.,  1.]),\n",
       " array([ 9.  ,  9.88, 10.76, 11.64, 12.52, 13.4 , 14.28, 15.16, 16.04,\n",
       "        16.92, 17.8 , 18.68, 19.56, 20.44, 21.32, 22.2 , 23.08, 23.96,\n",
       "        24.84, 25.72, 26.6 , 27.48, 28.36, 29.24, 30.12, 31.  , 31.88,\n",
       "        32.76, 33.64, 34.52, 35.4 , 36.28, 37.16, 38.04, 38.92, 39.8 ,\n",
       "        40.68, 41.56, 42.44, 43.32, 44.2 , 45.08, 45.96, 46.84, 47.72,\n",
       "        48.6 , 49.48, 50.36, 51.24, 52.12, 53.  , 53.88, 54.76, 55.64,\n",
       "        56.52, 57.4 , 58.28, 59.16, 60.04, 60.92, 61.8 , 62.68, 63.56,\n",
       "        64.44, 65.32, 66.2 , 67.08, 67.96, 68.84, 69.72, 70.6 , 71.48,\n",
       "        72.36, 73.24, 74.12, 75.  ]),\n",
       " <a list of 75 Patch objects>)"
      ]
     },
     "execution_count": 15,
     "metadata": {},
     "output_type": "execute_result"
    },
    {
     "data": {
      "image/png": "[encoded data removed]",
      "text/plain": [
       "<Figure size 432x288 with 1 Axes>"
      ]
     },
     "metadata": {
      "needs_background": "light"
     },
     "output_type": "display_data"
    }
   ],
   "source": [
    "my_means =[]\n",
    "for index in range(0,999):\n",
    "    my_means = my_means + [int(X_train[index].mean())] \n",
    "\n",
    "#print(my_means)\n",
    "plt.hist(my_means, bins=np.amax(my_means)) \n"
   ]
  },
  {
   "cell_type": "markdown",
   "metadata": {},
   "source": [
    "### Data pre-processing\n",
    "\n",
    "Data pre-processing is an important step for neural networks. You always want to normalize your data, and you might consider performing data-augmentation to increase the variety of your training set. Here we will only perform data-normalization.\n",
    "\n",
    "We perform pixel-wise normalization"
   ]
  },
  {
   "cell_type": "code",
   "execution_count": 418,
   "metadata": {
    "scrolled": false
   },
   "outputs": [
    {
     "data": {
      "image/png": "[encoded data removed]",
      "text/plain": [
       "<Figure size 432x288 with 2 Axes>"
      ]
     },
     "metadata": {
      "needs_background": "light"
     },
     "output_type": "display_data"
    }
   ],
   "source": [
    "plt.figure()\n",
    "plt.imshow(X_train[0], cmap=\"gray\")\n",
    "plt.colorbar()\n",
    "plt.grid(False)"
   ]
  },
  {
   "cell_type": "code",
   "execution_count": 419,
   "metadata": {},
   "outputs": [],
   "source": [
    "#By inspecting the first image we can see that the pixel values range between 0 and 255. We want to have values between 0 and 1, ie: we have to normalize "
   ]
  },
  {
   "cell_type": "code",
   "execution_count": 420,
   "metadata": {},
   "outputs": [],
   "source": [
    "#mean\n",
    "pixel_mean = X_train.mean(axis=0)\n",
    "#standard deviation\n",
    "pixel_std = X_train.std(axis=0) + 1e-10 # Prevent division-by-zero errors\n",
    "# Normalize the train and test set\n",
    "#we want the input to have values between 0 and 1\n",
    "X_train = (X_train - pixel_mean) / pixel_std\n",
    "X_test = (X_test - pixel_mean) / pixel_std\n"
   ]
  },
  {
   "cell_type": "markdown",
   "metadata": {},
   "source": [
    "#### Visualize the normalized data"
   ]
  },
  {
   "cell_type": "code",
   "execution_count": 421,
   "metadata": {},
   "outputs": [
    {
     "data": {
      "image/png": "[encoded data removed]",
      "text/plain": [
       "<Figure size 432x288 with 9 Axes>"
      ]
     },
     "metadata": {
      "needs_background": "light"
     },
     "output_type": "display_data"
    }
   ],
   "source": [
    "for row in range(3):\n",
    "    for col in range(3):\n",
    "        idx = row*3 + col + 1\n",
    "        plt.subplot(3,3, idx)\n",
    "        plt.imshow(X_train[idx-1], cmap=\"gray\")\n",
    "\n",
    "#the data is in the correct format now   "
   ]
  },
  {
   "cell_type": "markdown",
   "metadata": {},
   "source": [
    "### Transform labels to one-hot encoding"
   ]
  },
  {
   "cell_type": "code",
   "execution_count": 422,
   "metadata": {},
   "outputs": [
    {
     "name": "stdout",
     "output_type": "stream",
     "text": [
      "(60000,)\n",
      "(60000, 10)\n"
     ]
    }
   ],
   "source": [
    "#1-dimensional class arrays is converted to 10-dimensional class matrices because the ouput is a number between 0 and 9\n",
    "print(Y_train.shape)\n",
    "Y_train = keras.utils.to_categorical(Y_train, num_classes)\n",
    "Y_test = keras.utils.to_categorical(Y_test, num_classes)\n",
    "print(Y_train.shape) # --> better"
   ]
  },
  {
   "cell_type": "markdown",
   "metadata": {},
   "source": [
    "### Change data shape\n",
    "If keras is using tensorflow backend, it expect the image format to be\n",
    "(Height, Width, Number of channels).\n",
    "In our case the MNIST images are graysale, with a shape of (28, 28). \n",
    "Therefore we convert our data to the required shape of tensorflow, which is (28, 28, 1)"
   ]
  },
  {
   "cell_type": "code",
   "execution_count": 423,
   "metadata": {},
   "outputs": [
    {
     "name": "stdout",
     "output_type": "stream",
     "text": [
      "Old shape: (60000, 28, 28)\n",
      "New shape: (60000, 28, 28, 1)\n"
     ]
    }
   ],
   "source": [
    "print(\"Old shape:\", X_train.shape)\n",
    "X_train = X_train[:,:,:, np.newaxis].astype(np.float32)\n",
    "X_test = X_test[:,:,:, np.newaxis].astype(np.float32)\n",
    "print(\"New shape:\", X_train.shape)\n",
    "#MNIST images have a depth of 1, and we converted our data type to float32 to reduce memory requirements"
   ]
  },
  {
   "cell_type": "markdown",
   "metadata": {},
   "source": [
    "#### Split training set into training and validation\n",
    "\n",
    "We want to use a validation set to validate our model, and keep the test set for testing purposes only.\n",
    "The testing set is only for final evaluation, while we use the validation set to tune different hyperparameters in our model."
   ]
  },
  {
   "cell_type": "code",
   "execution_count": 424,
   "metadata": {},
   "outputs": [
    {
     "name": "stdout",
     "output_type": "stream",
     "text": [
      "Training set shape: (54000, 28, 28, 1)\n",
      "Validation set shape: (6000, 28, 28, 1)\n",
      "Testing set shape: (10000, 28, 28, 1)\n"
     ]
    }
   ],
   "source": [
    "train_val_split = 0.9 # Percentage of data to use in training set\n",
    "indexes = np.arange(X_train.shape[0])\n",
    "np.random.shuffle(indexes)\n",
    "# Select random indexes for train/val set\n",
    "idx_train = indexes[:int(train_val_split*X_train.shape[0])]\n",
    "idx_val = indexes[int(train_val_split*X_train.shape[0]):]\n",
    "\n",
    "X_val = X_train[idx_val]\n",
    "Y_val = Y_train[idx_val]\n",
    "\n",
    "X_train = X_train[idx_train]\n",
    "Y_train = Y_train[idx_train]\n",
    "\n",
    "print(\"Training set shape:\", X_train.shape)\n",
    "print(\"Validation set shape:\", X_val.shape)\n",
    "print(\"Testing set shape:\", X_test.shape)"
   ]
  },
  {
   "cell_type": "markdown",
   "metadata": {},
   "source": [
    "### Model Construction\n",
    "\n",
    "Here we will build a very simple fully connected neural network, with the following layers:\n",
    "\n",
    "- Flatten layer. Required to feed into our fully-connected layer. \n",
    "- Fully connected layer (Dense) with 10 output units\n",
    "- Softmax activation function"
   ]
  },
  {
   "cell_type": "code",
   "execution_count": 527,
   "metadata": {},
   "outputs": [],
   "source": [
    "model = Sequential()\n",
    "input_shape = X_train.shape[1:] # (28, 28, 1)\n",
    "model.add(Flatten(input_shape=X_train.shape[1:])) #transforms the format of the images from the input shape 28*28 to a 1d-array\n",
    "model.add(Dense(18, activation = \"relu\"))\n",
    "model.add(Dense(18, activation = \"relu\"))\n",
    "\n",
    "model.add(Dense(num_classes, activation=\"softmax\")) #num_classes = 10\n",
    "#the layer is a 10-node softmax layer. It returns an array of 10 probabilities that sum to 1\n",
    "#Each node contains a score that indicates the probability that the current image belongs to one of the 10 classes\n",
    "\n"
   ]
  },
  {
   "cell_type": "markdown",
   "metadata": {},
   "source": [
    "Keras requires the input shape of the first layer of your model. It automatically computes the input shapes of the following layers.\n",
    "\n"
   ]
  },
  {
   "cell_type": "markdown",
   "metadata": {},
   "source": [
    "### Compilation, optimization function and loss metric\n",
    "\n",
    "We then compile our model where the inputs are the following:\n",
    "\n",
    "- Loss: The loss function we want to minimize. In this case it is the categorical cross entropy loss.\n",
    "- Optimizer: The optimizer function we want to use. Here we choose Stochastic Gradient Descent. There is a lot of choices on optimizers, you can read more about them [here](https://keras.io/optimizers/)\n",
    "- Metrics: The metric we want to track. You can read more about different metrics [here](https://keras.io/metrics/)"
   ]
  },
  {
   "cell_type": "code",
   "execution_count": 528,
   "metadata": {},
   "outputs": [],
   "source": [
    "#before trainning the model we have a few more compiling steps\n",
    "#the loss function measures how accurate the model is\n",
    "#optimizer : measures how the model is updated\n",
    "learning_rate = 0.00085\n",
    "#model.compile(loss=keras.losses.sparse_categorical_crossentropy,\n",
    " #           optimizer=keras.optimizers.SGD(lr=learning_rate),\n",
    "  #            metrics=['sparse_categorical_accuracy'])\n",
    "\n",
    "model.compile(loss=keras.losses.categorical_crossentropy,\n",
    "            optimizer=keras.optimizers.Adam(learning_rate),\n",
    "              metrics=['accuracy'])\n",
    "#accuracy : the fraction of images that are correctly classified\n",
    "\n",
    "#other options :\n",
    "\n",
    "#model.compile(loss=keras.losses.categorical_crossentropy,\n",
    " #            optimizer=keras.optimizers.RMSprop(learning_rate),\n",
    "  #            metrics=['accuracy'])\n",
    "\n",
    "#model.compile(loss=keras.losses.sparse_categorical_crossentropy,\n",
    " #           optimizer=keras.optimizers.Adam(learning_rate),\n",
    "  #            metrics=['sparse_categorical_accuracy'])"
   ]
  },
  {
   "cell_type": "markdown",
   "metadata": {},
   "source": [
    "### Model summary\n",
    "\n",
    "Keras has a very useful function to see how many parameters and the output shapes of each layer."
   ]
  },
  {
   "cell_type": "code",
   "execution_count": 530,
   "metadata": {},
   "outputs": [
    {
     "name": "stdout",
     "output_type": "stream",
     "text": [
      "_________________________________________________________________\n",
      "Layer (type)                 Output Shape              Param #   \n",
      "=================================================================\n",
      "flatten_38 (Flatten)         (None, 784)               0         \n",
      "_________________________________________________________________\n",
      "dense_86 (Dense)             (None, 18)                14130     \n",
      "_________________________________________________________________\n",
      "dense_87 (Dense)             (None, 18)                342       \n",
      "_________________________________________________________________\n",
      "dense_88 (Dense)             (None, 10)                190       \n",
      "=================================================================\n",
      "Total params: 14,662\n",
      "Trainable params: 14,662\n",
      "Non-trainable params: 0\n",
      "_________________________________________________________________\n"
     ]
    }
   ],
   "source": [
    "model.summary()"
   ]
  },
  {
   "cell_type": "markdown",
   "metadata": {},
   "source": [
    "### Train our model\n",
    "\n",
    "We set the number of epochs we want to train for, and also the batch size we want to use.\n",
    "\n",
    "The model is evaulated after each epoch on the validation set."
   ]
  },
  {
   "cell_type": "code",
   "execution_count": 529,
   "metadata": {},
   "outputs": [
    {
     "name": "stdout",
     "output_type": "stream",
     "text": [
      "Train on 54000 samples, validate on 6000 samples\n",
      "Epoch 1/10\n",
      "54000/54000 [==============================] - 5s 83us/step - loss: 0.6207 - acc: 0.8177 - val_loss: 0.3147 - val_acc: 0.9117\n",
      "Epoch 2/10\n",
      "54000/54000 [==============================] - 2s 43us/step - loss: 0.2513 - acc: 0.9253 - val_loss: 0.2568 - val_acc: 0.9275\n",
      "Epoch 3/10\n",
      "54000/54000 [==============================] - 2s 44us/step - loss: 0.2042 - acc: 0.9386 - val_loss: 0.2364 - val_acc: 0.9350\n",
      "Epoch 4/10\n",
      "54000/54000 [==============================] - 2s 44us/step - loss: 0.1779 - acc: 0.9467 - val_loss: 0.2182 - val_acc: 0.9438\n",
      "Epoch 5/10\n",
      "54000/54000 [==============================] - 2s 44us/step - loss: 0.1593 - acc: 0.9521 - val_loss: 0.2136 - val_acc: 0.9430\n",
      "Epoch 6/10\n",
      "54000/54000 [==============================] - 2s 44us/step - loss: 0.1467 - acc: 0.9558 - val_loss: 0.2103 - val_acc: 0.9445\n",
      "Epoch 7/10\n",
      "54000/54000 [==============================] - 2s 44us/step - loss: 0.1350 - acc: 0.9595 - val_loss: 0.2018 - val_acc: 0.9465\n",
      "Epoch 8/10\n",
      "54000/54000 [==============================] - 2s 44us/step - loss: 0.1263 - acc: 0.9618 - val_loss: 0.2032 - val_acc: 0.9487\n",
      "Epoch 9/10\n",
      "54000/54000 [==============================] - 2s 46us/step - loss: 0.1181 - acc: 0.9645 - val_loss: 0.2014 - val_acc: 0.9478\n",
      "Epoch 10/10\n",
      "54000/54000 [==============================] - 2s 46us/step - loss: 0.1116 - acc: 0.9659 - val_loss: 0.2010 - val_acc: 0.9517\n"
     ]
    },
    {
     "data": {
      "text/plain": [
       "<keras.callbacks.History at 0x7f082a368ef0>"
      ]
     },
     "execution_count": 529,
     "metadata": {},
     "output_type": "execute_result"
    }
   ],
   "source": [
    "number_of_epochs = 10\n",
    "batch_size=128\n",
    "\n",
    "model.fit(X_train, Y_train,\n",
    "          batch_size=batch_size,\n",
    "          epochs=number_of_epochs,\n",
    "          verbose=1,\n",
    "          validation_data=(X_val, Y_val))"
   ]
  },
  {
   "cell_type": "markdown",
   "metadata": {},
   "source": [
    "### Visualization and analysis\n",
    "The fit function tracks loss and accuracy on both the training and validation data. \n",
    "\n",
    "We can then use these metrics to visualize and analyze the performance of our model"
   ]
  },
  {
   "cell_type": "markdown",
   "metadata": {},
   "source": [
    "#### Loss history"
   ]
  },
  {
   "cell_type": "code",
   "execution_count": 531,
   "metadata": {},
   "outputs": [
    {
     "data": {
      "text/plain": [
       "<matplotlib.legend.Legend at 0x7f082982fc18>"
      ]
     },
     "execution_count": 531,
     "metadata": {},
     "output_type": "execute_result"
    },
    {
     "data": {
      "image/png": "[encoded data removed]",
      "text/plain": [
       "<Figure size 864x576 with 1 Axes>"
      ]
     },
     "metadata": {
      "needs_background": "light"
     },
     "output_type": "display_data"
    }
   ],
   "source": [
    "history = model.history.history\n",
    "plt.figure(figsize=(12, 8))\n",
    "plt.plot(history[\"val_loss\"], label=\"Validation loss\")\n",
    "plt.plot(history[\"loss\"], label=\"Training loss\")\n",
    "plt.legend()"
   ]
  },
  {
   "cell_type": "markdown",
   "metadata": {},
   "source": [
    "Something to notice here is the gap between the validation loss and training loss. This might indicate that our model is overfitting on the training set, even though the validation loss is not increasing."
   ]
  },
  {
   "cell_type": "markdown",
   "metadata": {},
   "source": [
    "#### Accuracy history"
   ]
  },
  {
   "cell_type": "code",
   "execution_count": 488,
   "metadata": {},
   "outputs": [
    {
     "data": {
      "text/plain": [
       "<matplotlib.legend.Legend at 0x7f0831d17780>"
      ]
     },
     "execution_count": 488,
     "metadata": {},
     "output_type": "execute_result"
    },
    {
     "data": {
      "image/png": "[encoded data removed]",
      "text/plain": [
       "<Figure size 864x576 with 1 Axes>"
      ]
     },
     "metadata": {
      "needs_background": "light"
     },
     "output_type": "display_data"
    }
   ],
   "source": [
    "plt.figure(figsize=(12, 8))\n",
    "plt.plot(history[\"val_acc\"], label=\"Validation accuracy\")\n",
    "plt.plot(history[\"acc\"], label=\"Training accuracy\")\n",
    "plt.legend()"
   ]
  },
  {
   "cell_type": "markdown",
   "metadata": {},
   "source": [
    "## Final evaluation on test set \n",
    "\n",
    "Here we want to perform our final evaluation of our model on the test-set. \n"
   ]
  },
  {
   "cell_type": "code",
   "execution_count": 490,
   "metadata": {},
   "outputs": [
    {
     "name": "stdout",
     "output_type": "stream",
     "text": [
      "10000/10000 [==============================] - 1s 65us/step\n",
      "The final loss on the test set is: 0.167374473958835\n",
      "The final accuracy on the test set is: 0.9544\n"
     ]
    }
   ],
   "source": [
    "final_loss, final_accuracy = model.evaluate(X_test, Y_test)\n",
    "print(\"The final loss on the test set is:\", final_loss)\n",
    "print(\"The final accuracy on the test set is:\", final_accuracy)"
   ]
  },
  {
   "cell_type": "markdown",
   "metadata": {},
   "source": [
    "We can then compare the test loss on our previous plot.\n",
    "\n",
    "Notice that the test loss is very close to our validation loss. This indicates that our validation set is a good indicator of the models performance on the test set."
   ]
  },
  {
   "cell_type": "code",
   "execution_count": 491,
   "metadata": {},
   "outputs": [
    {
     "data": {
      "text/plain": [
       "<matplotlib.legend.Legend at 0x7f0831cb74a8>"
      ]
     },
     "execution_count": 491,
     "metadata": {},
     "output_type": "execute_result"
    },
    {
     "data": {
      "image/png": "[encoded data removed]",
      "text/plain": [
       "<Figure size 864x576 with 1 Axes>"
      ]
     },
     "metadata": {
      "needs_background": "light"
     },
     "output_type": "display_data"
    }
   ],
   "source": [
    "history = model.history.history\n",
    "plt.figure(figsize=(12, 8))\n",
    "plt.plot(history[\"val_loss\"], label=\"Validation loss\")\n",
    "plt.plot(history[\"loss\"], label=\"Training loss\")\n",
    "plt.plot([9], [final_loss], 'o', label=\"Final test loss\")\n",
    "plt.legend()"
   ]
  },
  {
   "cell_type": "markdown",
   "metadata": {},
   "source": [
    "# Final notes\n",
    "\n",
    "You have now built your first model with Keras. The model we implemented was a very shallow and simple model, and this model will significantly improve if you add more layers/complexity to it.\n",
    "\n",
    "Some improvements for this architecture could be:\n",
    "\n",
    "- Using data augmentation on the training set. This could include translation, rotation, scaling, color augmentation etc... [This](https://becominghuman.ai/image-data-pre-processing-for-neural-networks-498289068258) blog post gives a quick introduction to data pre-processing\n",
    "- Using more layers. Our network is very shallow, and will benefit of additional layers.\n",
    "- Introducing techniques such as dropout, batch normalization\n",
    "- Experimenting with optimization algorithms. We used SGD, but there are several options such as AdaDelta, Adam, RMSProp ...\n",
    "- Hyperparameter tuning: This might include learning rate, batch size, number of layers, number of filters etc..\n",
    "\n",
    "We performed very simple data analysis to evaluate our model. This can be further worked on to improve our understanding on where our model works good, and where it suffers. Some metrics and visualiation methods we recommend is:\n",
    "\n",
    "- Precision, Recall, F1-score metrics\n",
    "- Confusion Matrix\n",
    "- Precision-Recall curve\n",
    "\n",
    "\n",
    "Remember, you need to understand every method you choose to use in your project. We might ask questions about the different methods you implement in the final presentation"
   ]
  }
 ],
 "metadata": {
  "kernelspec": {
   "display_name": "tdt4195-kernel",
   "language": "python",
   "name": "tdt4195-kernel"
  },
  "language_info": {
   "codemirror_mode": {
    "name": "ipython",
    "version": 3
   },
   "file_extension": ".py",
   "mimetype": "text/x-python",
   "name": "python",
   "nbconvert_exporter": "python",
   "pygments_lexer": "ipython3",
   "version": "3.6.6"
  }
 },
 "nbformat": 4,
 "nbformat_minor": 2
}
